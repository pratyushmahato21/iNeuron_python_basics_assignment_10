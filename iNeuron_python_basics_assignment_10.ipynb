{
 "cells": [
  {
   "cell_type": "markdown",
   "id": "10dc3ad4",
   "metadata": {},
   "source": [
    "1. How do you distinguish between shutil.copy() and shutil.copytree()?"
   ]
  },
  {
   "cell_type": "markdown",
   "id": "50e8ac17",
   "metadata": {},
   "source": [
    "Ans: While shutil. copy() will copy a single file, shutil. copytree() will copy an entire folder and every folder and file contained in it. The destination directory, named by (dst) must not already exist"
   ]
  },
  {
   "cell_type": "markdown",
   "id": "a8541d85",
   "metadata": {},
   "source": [
    "2. What function is used to rename files?"
   ]
  },
  {
   "cell_type": "markdown",
   "id": "52702b3f",
   "metadata": {},
   "source": [
    "Ans: os.rename(old_name, new_name)"
   ]
  },
  {
   "cell_type": "markdown",
   "id": "6b924116",
   "metadata": {},
   "source": [
    "3. What is the difference between the delete functions in the send2trash and shutil modules?"
   ]
  },
  {
   "cell_type": "markdown",
   "id": "b8a4e8a6",
   "metadata": {},
   "source": [
    "Ans: send2trash will send folders and files to your computer’s trash or recycle bin instead of permanently deleting them. It is safer to use\n",
    "\n",
    "shutil.rmtree deletes a directory and all its contents. once a file is deleted. it will be lost permanently. If a file is deleted accidentally using this method there is no way we can recover the deleted file"
   ]
  },
  {
   "cell_type": "markdown",
   "id": "c1563c53",
   "metadata": {},
   "source": [
    "4.ZipFile objects have a close() method just like File objects’ close() method. What ZipFile method is equivalent to File objects’ open() method?"
   ]
  },
  {
   "cell_type": "markdown",
   "id": "a8ff430a",
   "metadata": {},
   "source": [
    "Ans: zipfile.ZipFile('example.zip', mode=r)"
   ]
  },
  {
   "cell_type": "markdown",
   "id": "0c8b12fb",
   "metadata": {},
   "source": [
    "5. Create a programme that searches a folder tree for files with a certain file extension (such as .pdf\n",
    "or .jpg). Copy these files from whatever location they are in to a new folder."
   ]
  },
  {
   "cell_type": "code",
   "execution_count": 2,
   "id": "124d21d5",
   "metadata": {},
   "outputs": [
    {
     "name": "stdout",
     "output_type": "stream",
     "text": [
      "Looking in C:\\Users\\praty\\Desktop\\A for files with extensions of .jpg, .pdf, .txt\n"
     ]
    }
   ],
   "source": [
    "import os, shutil\n",
    "\n",
    "\n",
    "def SearchAndCopy(folder, extensions, destFolder):\n",
    "    folder = os.path.abspath(folder)\n",
    "    destFolder = os.path.abspath(destFolder)\n",
    "    print('Looking in', folder, 'for files with extensions of', ', '.join(extensions))\n",
    "    for foldername, subfolders, filenames in os.walk(folder):\n",
    "        for filename in filenames:\n",
    "            name, extension = os.path.splitext(filename)\n",
    "            if extension in extensions:\n",
    "                fileAbsPath = foldername + os.path.sep + filename\n",
    "                print('Coping', fileAbsPath, 'to', destFolder)\n",
    "                shutil.copy(fileAbsPath, destFolder)\n",
    "\n",
    "\n",
    "extensions = ['.jpg', '.pdf', '.txt']\n",
    "folder = r'C:\\Users\\praty\\Desktop\\A'\n",
    "destFolder = r'C:\\Users\\praty\\Desktop\\B'\n",
    "SearchAndCopy(folder, extensions, destFolder)\n"
   ]
  },
  {
   "cell_type": "code",
   "execution_count": null,
   "id": "b2f990d8",
   "metadata": {},
   "outputs": [],
   "source": []
  }
 ],
 "metadata": {
  "kernelspec": {
   "display_name": "Python 3 (ipykernel)",
   "language": "python",
   "name": "python3"
  },
  "language_info": {
   "codemirror_mode": {
    "name": "ipython",
    "version": 3
   },
   "file_extension": ".py",
   "mimetype": "text/x-python",
   "name": "python",
   "nbconvert_exporter": "python",
   "pygments_lexer": "ipython3",
   "version": "3.9.7"
  },
  "toc": {
   "base_numbering": 1,
   "nav_menu": {},
   "number_sections": true,
   "sideBar": true,
   "skip_h1_title": false,
   "title_cell": "Table of Contents",
   "title_sidebar": "Contents",
   "toc_cell": false,
   "toc_position": {},
   "toc_section_display": true,
   "toc_window_display": false
  }
 },
 "nbformat": 4,
 "nbformat_minor": 5
}
